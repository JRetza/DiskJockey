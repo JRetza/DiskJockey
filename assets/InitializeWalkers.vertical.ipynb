{
 "cells": [
  {
   "cell_type": "markdown",
   "metadata": {},
   "source": [
    "This notebook is designed to allow you to tweak how you might like your walkers initialized. Edit the cells as you see fit and then proceed to evaluate each cell and save the final `pos0.npy` file."
   ]
  },
  {
   "cell_type": "code",
   "execution_count": 3,
   "metadata": {
    "collapsed": true
   },
   "outputs": [],
   "source": [
    "import numpy as np"
   ]
  },
  {
   "cell_type": "markdown",
   "metadata": {},
   "source": [
    "Generally, you want at least a few walkers for each dimension you may be exploring. To start with we are only using `4`, but you may want to eventually increase this to `8` or `10` if you have more cores available for computation. For the **vertical** model, there are 13 parameters."
   ]
  },
  {
   "cell_type": "code",
   "execution_count": 4,
   "metadata": {},
   "outputs": [
    {
     "name": "stdout",
     "output_type": "stream",
     "text": [
      "52\n"
     ]
    }
   ],
   "source": [
    "nparam = 13\n",
    "nwalkers = 4 * nparam\n",
    "print(nwalkers)"
   ]
  },
  {
   "cell_type": "markdown",
   "metadata": {},
   "source": [
    "If you are allowing distance to float, then you should change the previous line to\n",
    "\n",
    "    nparam = 14\n",
    "\n",
    "and then uncomment out the `dpc` row below. Below, we create an array of starting walker positions, similar to how `emcee` is initialized. You should tweak the `low` and `high` ranges to correspond to a small guess around your starting position."
   ]
  },
  {
   "cell_type": "code",
   "execution_count": 5,
   "metadata": {},
   "outputs": [],
   "source": [
    "p0 = np.array([np.random.uniform(1.03, 1.05, nwalkers), # mass [M_sun]\n",
    "              np.random.uniform(20., 21.0, nwalkers), #r_c [AU]\n",
    "              np.random.uniform(30., 40., nwalkers), #T_10m [K]\n",
    "              np.random.uniform(0.50, 0.55, nwalkers), # q_m \n",
    "              np.random.uniform(110., 115, nwalkers), #T_10a [K]\n",
    "              np.random.uniform(0.50, 0.55, nwalkers), # q_a \n",
    "              np.random.uniform(-3.4, -3.1, nwalkers), #log10 Sigma_c [log10 g/cm^2]\n",
    "              np.random.uniform(0.17, 0.18, nwalkers), #xi [km/s]\n",
    "#                np.random.uniform(144.0, 146.0, nwalkers), #dpc [pc]\n",
    "              np.random.uniform(44.0, 46.0, nwalkers), #inc [degrees]\n",
    "              np.random.uniform(40.0, 41.0, nwalkers), #PA [degrees]\n",
    "              np.random.uniform(-0.1, 0.1, nwalkers), #vz [km/s]\n",
    "              np.random.uniform(-0.1, 0.1, nwalkers), #mu_a [arcsec]\n",
    "              np.random.uniform(-0.1, 0.1, nwalkers)]) #mu_d [arcsec]"
   ]
  },
  {
   "cell_type": "code",
   "execution_count": 6,
   "metadata": {},
   "outputs": [
    {
     "data": {
      "text/plain": [
       "(13, 52)"
      ]
     },
     "execution_count": 6,
     "metadata": {},
     "output_type": "execute_result"
    }
   ],
   "source": [
    "# Just to check we have the right shape\n",
    "p0.shape"
   ]
  },
  {
   "cell_type": "code",
   "execution_count": 7,
   "metadata": {},
   "outputs": [],
   "source": [
    "# Save the new position file to disk\n",
    "np.save(\"pos0.npy\", p0)"
   ]
  },
  {
   "cell_type": "code",
   "execution_count": 8,
   "metadata": {},
   "outputs": [
    {
     "data": {
      "text/plain": [
       "(13, 52)"
      ]
     },
     "execution_count": 8,
     "metadata": {},
     "output_type": "execute_result"
    }
   ],
   "source": [
    "# Just to check that we have written the file, you can read it back in and check that it has the proper shape.\n",
    "np.load(\"pos0.npy\").shape"
   ]
  },
  {
   "cell_type": "code",
   "execution_count": null,
   "metadata": {
    "collapsed": true
   },
   "outputs": [],
   "source": []
  }
 ],
 "metadata": {
  "kernelspec": {
   "display_name": "Python 3",
   "language": "python",
   "name": "python3"
  },
  "language_info": {
   "codemirror_mode": {
    "name": "ipython",
    "version": 3
   },
   "file_extension": ".py",
   "mimetype": "text/x-python",
   "name": "python",
   "nbconvert_exporter": "python",
   "pygments_lexer": "ipython3",
   "version": "3.6.3"
  }
 },
 "nbformat": 4,
 "nbformat_minor": 1
}
