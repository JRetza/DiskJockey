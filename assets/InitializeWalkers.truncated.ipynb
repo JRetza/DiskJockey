{
 "cells": [
  {
   "cell_type": "markdown",
   "metadata": {},
   "source": [
    "This notebook is designed to allow you to tweak how you might like your walkers initialized. Edit the cells as you see fit and then proceed to evaluate each cell and save the final `pos0.npy` file."
   ]
  },
  {
   "cell_type": "code",
   "execution_count": 3,
   "metadata": {
    "collapsed": true
   },
   "outputs": [],
   "source": [
    "import numpy as np"
   ]
  },
  {
   "cell_type": "markdown",
   "metadata": {},
   "source": [
    "Generally, you want at least a few walkers for each dimension you may be exploring. For the **truncated** model, there are 13 parameters."
   ]
  },
  {
   "cell_type": "code",
   "execution_count": 4,
   "metadata": {
    "collapsed": false
   },
   "outputs": [
    {
     "name": "stdout",
     "output_type": "stream",
     "text": [
      "52\n"
     ]
    }
   ],
   "source": [
    "nparam = 13\n",
    "nwalkers = 4 * nparam\n",
    "print(nwalkers)"
   ]
  },
  {
   "cell_type": "markdown",
   "metadata": {},
   "source": [
    "If you are fixing distance, then you should change the previous line to \n",
    "    \n",
    "    nparam = 12\n",
    "\n",
    "and then comment out the `dpc` row below. Below, we create an array of starting walker positions, similar to how `emcee` is initialized. You should tweak the `low` and `high` ranges to correspond to a small guess around your starting position."
   ]
  },
  {
   "cell_type": "code",
   "execution_count": 5,
   "metadata": {
    "collapsed": false
   },
   "outputs": [],
   "source": [
    "p0 = np.array([np.random.uniform(1.03, 1.05, nwalkers), # mass [M_sun]\n",
    "              np.random.uniform(1., 4.0, nwalkers), #r_in [AU]\n",
    "               np.random.uniform(20., 21.0, nwalkers), #r_out [AU]\n",
    "              np.random.uniform(110., 115, nwalkers), #T_10 [K]\n",
    "              np.random.uniform(0.70, 0.71, nwalkers), # q \n",
    "              np.random.uniform(-3.4, -3.5, nwalkers), #log10 M_gas [log10 M_sun]\n",
    "              np.random.uniform(0.17, 0.18, nwalkers), #xi [km/s]\n",
    "               np.random.uniform(144.0, 145.0, nwalkers), #dpc [pc]\n",
    "              np.random.uniform(159.0, 160.0, nwalkers), #inc [degrees]\n",
    "              np.random.uniform(40.0, 41.0, nwalkers), #PA [degrees]\n",
    "              np.random.uniform(-0.1, 0.1, nwalkers), #vz [km/s]\n",
    "              np.random.uniform(-0.1, 0.1, nwalkers), #mu_a [arcsec]\n",
    "              np.random.uniform(-0.1, 0.1, nwalkers)]) #mu_d [arcsec]"
   ]
  },
  {
   "cell_type": "code",
   "execution_count": 6,
   "metadata": {
    "collapsed": false
   },
   "outputs": [
    {
     "data": {
      "text/plain": [
       "(13, 52)"
      ]
     },
     "execution_count": 6,
     "metadata": {},
     "output_type": "execute_result"
    }
   ],
   "source": [
    "# Just to check we have the right shape\n",
    "p0.shape"
   ]
  },
  {
   "cell_type": "code",
   "execution_count": 7,
   "metadata": {
    "collapsed": false
   },
   "outputs": [],
   "source": [
    "# Save the new position file to disk\n",
    "np.save(\"pos0.npy\", p0)"
   ]
  },
  {
   "cell_type": "code",
   "execution_count": 8,
   "metadata": {
    "collapsed": false
   },
   "outputs": [
    {
     "data": {
      "text/plain": [
       "(13, 52)"
      ]
     },
     "execution_count": 8,
     "metadata": {},
     "output_type": "execute_result"
    }
   ],
   "source": [
    "# Just to check that we have written the file, you can read it back in and check that it has the proper shape.\n",
    "np.load(\"pos0.npy\").shape"
   ]
  },
  {
   "cell_type": "code",
   "execution_count": null,
   "metadata": {
    "collapsed": true
   },
   "outputs": [],
   "source": []
  }
 ],
 "metadata": {
  "kernelspec": {
   "display_name": "Python 3",
   "language": "python",
   "name": "python3"
  },
  "language_info": {
   "codemirror_mode": {
    "name": "ipython",
    "version": 3
   },
   "file_extension": ".py",
   "mimetype": "text/x-python",
   "name": "python",
   "nbconvert_exporter": "python",
   "pygments_lexer": "ipython3",
   "version": "3.4.3"
  }
 },
 "nbformat": 4,
 "nbformat_minor": 0
}
