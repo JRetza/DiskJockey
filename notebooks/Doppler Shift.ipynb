{
 "cells": [
  {
   "cell_type": "code",
   "execution_count": 1,
   "metadata": {
    "collapsed": true
   },
   "outputs": [],
   "source": [
    "using JudithExcalibur.constants"
   ]
  },
  {
   "cell_type": "code",
   "execution_count": 4,
   "metadata": {
    "collapsed": false
   },
   "outputs": [
    {
     "data": {
      "text/plain": [
       "866.9633734040698"
      ]
     },
     "execution_count": 4,
     "metadata": {},
     "output_type": "execute_result"
    }
   ],
   "source": [
    "lam0 = lam0s[\"12CO3-2\"] # microns"
   ]
  },
  {
   "cell_type": "code",
   "execution_count": 8,
   "metadata": {
    "collapsed": false
   },
   "outputs": [
    {
     "data": {
      "text/plain": [
       "vel_to_wl (generic function with 1 method)"
      ]
     },
     "execution_count": 8,
     "metadata": {},
     "output_type": "execute_result"
    }
   ],
   "source": [
    "function wl_to_vel(wl)\n",
    "    \n",
    "    return c_kms * (wl - lam0)/lam0\n",
    "end\n",
    "\n",
    "function vel_to_wl(vel)\n",
    "    beta = vel/c_kms # relativistic Doppler formula\n",
    "    return lam0 * sqrt((1. - beta) / (1. + beta)) # [microns]\n",
    "end\n"
   ]
  },
  {
   "cell_type": "code",
   "execution_count": 20,
   "metadata": {
    "collapsed": false
   },
   "outputs": [
    {
     "name": "stdout",
     "output_type": "stream",
     "text": [
      "Velocities range from 10.244758070036747 to 17.160677870030458 and span 6.915919799993711 km/s\n",
      "Midpoint is 13.702717970033603\n"
     ]
    }
   ],
   "source": [
    "# Wavelengths in the data set are\n",
    "vmin = wl_to_vel(866.993)\n",
    "vmax = wl_to_vel(867.013)\n",
    "println(\"Velocities range from $vmin to $vmax and span \", vmax - vmin, \" km/s\")\n",
    "println(\"Midpoint is \", (vmax + vmin)/2)"
   ]
  },
  {
   "cell_type": "code",
   "execution_count": 18,
   "metadata": {
    "collapsed": false
   },
   "outputs": [
    {
     "name": "stdout",
     "output_type": "stream",
     "text": [
      "6.8\n"
     ]
    }
   ],
   "source": [
    "# LSR velocities in Output image span from 2.38 kms to 9.18 km/s.\n",
    "println(9.18 - 2.38)"
   ]
  },
  {
   "cell_type": "code",
   "execution_count": 12,
   "metadata": {
    "collapsed": false
   },
   "outputs": [
    {
     "data": {
      "text/plain": [
       "12.66533000001882"
      ]
     },
     "execution_count": 12,
     "metadata": {},
     "output_type": "execute_result"
    }
   ],
   "source": [
    "wl_to_vel(867.)"
   ]
  },
  {
   "cell_type": "code",
   "execution_count": 13,
   "metadata": {
    "collapsed": false
   },
   "outputs": [
    {
     "data": {
      "text/plain": [
       "866.9267476685413"
      ]
     },
     "execution_count": 13,
     "metadata": {},
     "output_type": "execute_result"
    }
   ],
   "source": [
    "vel_to_wl(12.6653)"
   ]
  },
  {
   "cell_type": "code",
   "execution_count": null,
   "metadata": {
    "collapsed": true
   },
   "outputs": [],
   "source": []
  }
 ],
 "metadata": {
  "kernelspec": {
   "display_name": "Julia 0.3.3-pre",
   "language": "julia",
   "name": "julia 0.3"
  },
  "language_info": {
   "name": "julia",
   "version": "0.3.3"
  }
 },
 "nbformat": 4,
 "nbformat_minor": 0
}
