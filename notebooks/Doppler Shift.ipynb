{
 "cells": [
  {
   "cell_type": "code",
   "execution_count": 2,
   "metadata": {
    "collapsed": true
   },
   "outputs": [],
   "source": [
    "using JudithExcalibur.constants"
   ]
  },
  {
   "cell_type": "code",
   "execution_count": 3,
   "metadata": {
    "collapsed": false
   },
   "outputs": [
    {
     "data": {
      "text/plain": [
       "1300.4036557964414"
      ]
     },
     "execution_count": 3,
     "metadata": {},
     "output_type": "execute_result"
    }
   ],
   "source": [
    "#lam0 = lam0s[\"12CO3-2\"] # microns\n",
    "# lam0 = lam0s[\"13CO2-1\"]\n",
    "lam0 = lam0s[\"12CO2-1\"]"
   ]
  },
  {
   "cell_type": "code",
   "execution_count": 4,
   "metadata": {
    "collapsed": false
   },
   "outputs": [
    {
     "data": {
      "text/plain": [
       "vel_to_wl (generic function with 1 method)"
      ]
     },
     "execution_count": 4,
     "metadata": {},
     "output_type": "execute_result"
    }
   ],
   "source": [
    "function wl_to_vel(wl)\n",
    "    \n",
    "    return c_kms * (wl - lam0)/lam0\n",
    "end\n",
    "\n",
    "function vel_to_wl(vel)\n",
    "    beta = vel/c_kms # relativistic Doppler formula\n",
    "    return lam0 * sqrt((1. - beta) / (1. + beta)) # [microns]\n",
    "end\n"
   ]
  },
  {
   "cell_type": "code",
   "execution_count": 5,
   "metadata": {
    "collapsed": false
   },
   "outputs": [
    {
     "name": "stdout",
     "output_type": "stream",
     "text": [
      "Velocities range from 23.59422800001253 to 30.97144399999534 and span 7.377215999982809 km/s\n",
      "Midpoint is 27.282836000003936\n"
     ]
    }
   ],
   "source": [
    "# Wavelengths in the data set are\n",
    "vmin = wl_to_vel(1300.506)\n",
    "vmax = wl_to_vel(1300.538)\n",
    "println(\"Velocities range from $vmin to $vmax and span \", vmax - vmin, \" km/s\")\n",
    "println(\"Midpoint is \", (vmax + vmin)/2)"
   ]
  },
  {
   "cell_type": "code",
   "execution_count": 18,
   "metadata": {
    "collapsed": false
   },
   "outputs": [
    {
     "name": "stdout",
     "output_type": "stream",
     "text": [
      "6.8\n"
     ]
    }
   ],
   "source": [
    "# LSR velocities in Output image span from 2.38 kms to 9.18 km/s.\n",
    "println(9.18 - 2.38)"
   ]
  },
  {
   "cell_type": "code",
   "execution_count": 12,
   "metadata": {
    "collapsed": false
   },
   "outputs": [
    {
     "data": {
      "text/plain": [
       "12.66533000001882"
      ]
     },
     "execution_count": 12,
     "metadata": {},
     "output_type": "execute_result"
    }
   ],
   "source": [
    "wl_to_vel(867.)"
   ]
  },
  {
   "cell_type": "code",
   "execution_count": 13,
   "metadata": {
    "collapsed": false
   },
   "outputs": [
    {
     "data": {
      "text/plain": [
       "866.9267476685413"
      ]
     },
     "execution_count": 13,
     "metadata": {},
     "output_type": "execute_result"
    }
   ],
   "source": [
    "vel_to_wl(12.6653)"
   ]
  },
  {
   "cell_type": "code",
   "execution_count": null,
   "metadata": {
    "collapsed": true
   },
   "outputs": [],
   "source": []
  }
 ],
 "metadata": {
  "kernelspec": {
   "display_name": "Julia 0.3.3-pre",
   "language": "julia",
   "name": "julia 0.3"
  },
  "language_info": {
   "name": "julia",
   "version": "0.3.3"
  }
 },
 "nbformat": 4,
 "nbformat_minor": 0
}
