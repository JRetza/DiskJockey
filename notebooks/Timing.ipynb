{
 "metadata": {
  "language": "Julia",
  "name": "",
  "signature": "sha256:0df25babfe96a068e4b8fca6c4fa25fab3f6a471c2496c1088e02adfe63d8c5d"
 },
 "nbformat": 3,
 "nbformat_minor": 0,
 "worksheets": [
  {
   "cells": [
    {
     "cell_type": "markdown",
     "metadata": {},
     "source": [
      "Profile each step of model generation to see where things should be optimized"
     ]
    },
    {
     "cell_type": "markdown",
     "metadata": {},
     "source": [
      "## Model generation"
     ]
    },
    {
     "cell_type": "code",
     "collapsed": false,
     "input": [
      "using model"
     ],
     "language": "python",
     "metadata": {},
     "outputs": [],
     "prompt_number": 1
    },
    {
     "cell_type": "code",
     "collapsed": false,
     "input": [
      "model.plot_vel(params)"
     ],
     "language": "python",
     "metadata": {},
     "outputs": [
      {
       "ename": "LoadError",
       "evalue": "error compiling plot_vel: unsupported or misplaced expression import in function plot_vel\nwhile loading In[3], in expression starting on line 1",
       "output_type": "pyerr",
       "traceback": [
        "error compiling plot_vel: unsupported or misplaced expression import in function plot_vel\nwhile loading In[3], in expression starting on line 1",
        ""
       ]
      }
     ],
     "prompt_number": 3
    },
    {
     "cell_type": "code",
     "collapsed": false,
     "input": [
      "write_grid()"
     ],
     "language": "python",
     "metadata": {},
     "outputs": [],
     "prompt_number": 2
    },
    {
     "cell_type": "code",
     "collapsed": false,
     "input": [
      "@time write_model(params)"
     ],
     "language": "python",
     "metadata": {},
     "outputs": [
      {
       "output_type": "stream",
       "stream": "stdout",
       "text": [
        "elapsed time: 0."
       ]
      },
      {
       "output_type": "stream",
       "stream": "stdout",
       "text": [
        "403355582 seconds (24289764 bytes allocated)\n"
       ]
      }
     ],
     "prompt_number": 3
    },
    {
     "cell_type": "markdown",
     "metadata": {},
     "source": [
      "## RADMC run\n",
      "\n",
      "In addition to the gridding chosen by the model, there are many options here to tweak\n",
      "\n",
      "* second order integration\n",
      "* recursive sub-pixeling\n",
      "* mirroring the disk + transfer (no major speedup)\n",
      "\n",
      "Pg 25: 2D axially-symmetric with mirror symmetry. Do we just specify it and see what happens? Or does this do it automatically? If the largest value is = pi/2, then it is switched on automatically (should say in the output).\n",
      "\n",
      "\n",
      "* Different gridding (fewer theta grid points but concentrated near midplane)\n",
      "\n",
      "try running a single channel vs. multiple simultaneously\n",
      "\n",
      "How many *npix* should we really be using? Sean says we want to oversample the SMA beam by a factor of 5x10, so let's try pixels that are 0.05\"\n",
      "\n",
      "At this point, I think any tweaking is really going to be either in the number of pixels or number of grid cells."
     ]
    },
    {
     "cell_type": "code",
     "collapsed": false,
     "input": [
      "12/0.05"
     ],
     "language": "python",
     "metadata": {},
     "outputs": [
      {
       "metadata": {},
       "output_type": "pyout",
       "prompt_number": 13,
       "text": [
        "240.0"
       ]
      }
     ],
     "prompt_number": 13
    },
    {
     "cell_type": "code",
     "collapsed": false,
     "input": [
      "using constants\n",
      "incl = 33. #33. # deg. 0 deg = face on, 90 = edge on.\n",
      "vel = 0.0 # km/s\n",
      "PA = 90 - 73. # 73 deg. Position angle, runs counter clockwise, due to looking at sky.\n",
      "npix = 240 # number of pixels, can alternatively specify x and y separately\n",
      "lam0 = cc/230.538e9 * 1e6 # [microns]"
     ],
     "language": "python",
     "metadata": {},
     "outputs": [
      {
       "metadata": {},
       "output_type": "pyout",
       "prompt_number": 4,
       "text": [
        "1300.4036557964414"
       ]
      }
     ],
     "prompt_number": 4
    },
    {
     "cell_type": "code",
     "collapsed": false,
     "input": [
      "#loads the camera_wavelength_micron.inp file\n",
      "@time run(`radmc3d image incl $incl posang $PA vkms $vel npix $npix loadlambda`)"
     ],
     "language": "python",
     "metadata": {},
     "outputs": [
      {
       "output_type": "stream",
       "stream": "stdout",
       "text": [
        "  \n",
        " ================================================================\n",
        "      WELCOME TO RADMC-3D: A 3-D CONTINUUM AND LINE RT SOLVER    \n",
        "                                                                 \n",
        "        This is the 3-D reincarnation of the 2-D RADMC code      \n",
        "                (c) 2010/2011 Cornelis Dullemond                 \n",
        "                                                                 \n",
        " ************* NOTE: THIS IS STILL A BETA VERSION ***************\n",
        " ****** Some modes/capabilities are not yet ready/mature ********\n",
        "                                                                 \n",
        "       Please feel free to ask questions. Also please report     \n",
        "        bugs and/or suspicious behavior without hestitation.     \n",
        "      The reliability of this code depends on your vigilance!    \n",
        "                                                                 \n",
        "   To keep up-to-date with bug-alarms and bugfixes, register to  \n",
        "      the RADMC-3D mailing list by sending an email to me:       \n",
        "        dullemon@mpia.de or dullemond@uni-heidelberg.de          \n",
        "                                                                 \n",
        "              Please visit the RADMC-3D home page at             \n",
        "  http://www.ita.uni-heidelberg.de/~dullemond/software/radmc-3d/ \n",
        " ================================================================\n",
        "  \n",
        " Reading global frequencies/wavelengths...\n",
        " Reading grid file and prepare grid tree...\n",
        "    Adjusting theta(ny+1) to exactly pi/2...\n",
        " Reading star data...\n"
       ]
      },
      {
       "output_type": "stream",
       "stream": "stdout",
       "text": [
        " Grid information (current status):\n",
        "   We have 4096 branches, of which 4096 are actual grid cells.\n",
        "   ---> 100.000% mem use for branches, and 100.000% mem use for actual cells.\n",
        "   No grid refinement is active. The AMR tree is not allocated (this saves memory).\n",
        " ALWAYS SELF-CHECK FOR NOW...\n",
        " Using mirror symmetry in equatorial plane, because max(theta)==pi/2.\n",
        " Starting procedure for rendering image...\n",
        "       No dust included...\n",
        "   --> Including lines\n",
        "       No gas continuum included...\n",
        " Using Gaussian line profile\n",
        " Reading line data...\n",
        " NOTE: In lines.inp for molecule 1 no collision partners specified, therefore no non-LTE possible.\n",
        " Reading line data of molecule co ...\n",
        " Level Diagram for ispec=           1 :\n",
        " 3136.50954                                           | \n",
        " 2984.27068                                          || \n",
        " 2835.76272                                         || \n",
        " 2690.99132                                        || \n",
        " 2549.96193                                       || \n",
        " 2412.68017                                      || \n",
        " 2279.15110                                     || \n",
        " 2149.37986                                    || \n",
        " 2023.37151                                   || \n",
        " 1901.13077                                  || \n",
        " 1782.66240                                 || \n",
        " 1667.97094                                || \n",
        " 1557.06073                               || \n",
        " 1449.93593                              || \n",
        " 1346.60078                             || \n",
        " 1247.05922                            || \n",
        " 1151.31499                           || \n",
        " 1059.37185                          || \n",
        "  971.23314                         || \n",
        "  886.90241                        || \n",
        "  806.38279                       || \n",
        "  729.67745                      || \n",
        "  656.78922                     || \n",
        "  587.72084                    || \n",
        "  522.47517                   || \n",
        "  461.05446                  || \n",
        "  403.46114                 || \n",
        "  349.69757                || \n",
        "  299.76559               || \n",
        "  253.66715              || \n",
        "  211.40410             || \n",
        "  172.97807            || \n",
        "  138.39033           || \n",
        "  107.64241          || \n",
        "   80.73546         || \n",
        "   57.67033        || \n",
        "   38.44816       || \n",
        "   23.06951      || \n",
        "   11.53492     || \n",
        "    3.84503    || \n",
        "    0.00000    | \n",
        " Reading molecular/atomic number densities...\n",
        " Reading gas species number densities...\n",
        " Reading gas temperature...\n",
        " Reading or computing partition functions...\n",
        " Computing partition function internally for molecule            1\n",
        " Reading velocity field...\n",
        " No microturbulence input file found. Assuming zero microturbulence...\n",
        " Line transfer method: LTE (populations precalculated)\n",
        " Will store level populations of molecule  1 into global array for the following levels:\n",
        "           2           3\n",
        " Computing level populations, and storing them in global array...\n",
        " Rendering image(s)...\n",
        " Ray-tracing images: all 23 wavelength at once...\n"
       ]
      },
      {
       "output_type": "stream",
       "stream": "stdout",
       "text": [
        " Writing image to file...\n"
       ]
      },
      {
       "output_type": "stream",
       "stream": "stdout",
       "text": [
        " Diagnostics of flux-conservation (sub-pixeling):\n",
        "     Nr of main pixels (nx*ny)   =        57600\n",
        "     Nr of (sub)pixels raytraced =        68416\n",
        "     Nr of (sub)pixels used      =        65712\n",
        "     Increase of raytracing cost =    1.1877777777777778     \n"
       ]
      },
      {
       "output_type": "stream",
       "stream": "stdout",
       "text": [
        " Done...\n",
        "elapsed time: 34.763234169 seconds (4167716 bytes allocated)\n"
       ]
      }
     ],
     "prompt_number": 5
    },
    {
     "cell_type": "code",
     "collapsed": false,
     "input": [
      "@time run(`radmc3d image incl $incl posang $PA vkms $vel npix 240 lambda $lam0`)"
     ],
     "language": "python",
     "metadata": {},
     "outputs": [
      {
       "output_type": "stream",
       "stream": "stdout",
       "text": [
        "  \n",
        " ================================================================\n",
        "      WELCOME TO RADMC-3D: A 3-D CONTINUUM AND LINE RT SOLVER    \n",
        "                                                                 \n",
        "        This is the 3-D reincarnation of the 2-D RADMC code      \n",
        "                (c) 2010/2011 Cornelis Dullemond                 \n",
        "                                                                 \n",
        " ************* NOTE: THIS IS STILL A BETA VERSION ***************\n",
        " ****** Some modes/capabilities are not yet ready/mature ********\n",
        "                                                                 \n",
        "       Please feel free to ask questions. Also please report     \n",
        "        bugs and/or suspicious behavior without hestitation.     \n",
        "      The reliability of this code depends on your vigilance!    \n",
        "                                                                 \n",
        "   To keep up-to-date with bug-alarms and bugfixes, register to  \n",
        "      the RADMC-3D mailing list by sending an email to me:       \n",
        "        dullemon@mpia.de or dullemond@uni-heidelberg.de          \n",
        "                                                                 \n",
        "              Please visit the RADMC-3D home page at             \n",
        "  http://www.ita.uni-heidelberg.de/~dullemond/software/radmc-3d/ \n",
        " ================================================================\n",
        "  \n",
        " Reading global frequencies/wavelengths...\n"
       ]
      },
      {
       "output_type": "stream",
       "stream": "stdout",
       "text": [
        " Reading grid file and prepare grid tree...\n",
        "    Adjusting theta(ny+1) to exactly pi/2...\n",
        " Reading star data...\n",
        " Grid information (current status):\n",
        "   We have 512 branches, of which 512 are actual grid cells.\n",
        "   ---> 100.000% mem use for branches, and 100.000% mem use for actual cells.\n",
        "   No grid refinement is active. The AMR tree is not allocated (this saves memory).\n",
        " ALWAYS SELF-CHECK FOR NOW...\n",
        " Using mirror symmetry in equatorial plane, because max(theta)==pi/2.\n",
        " Starting procedure for rendering image...\n",
        "       No dust included...\n",
        "   --> Including lines\n",
        "       No gas continuum included...\n",
        " Using Gaussian line profile\n",
        " Reading line data...\n",
        " NOTE: In lines.inp for molecule 1 no collision partners specified, therefore no non-LTE possible.\n",
        " Reading line data of molecule co ...\n",
        " Level Diagram for ispec=           1 :\n",
        " 3136.50954                                           | \n",
        " 2984.27068                                          || \n",
        " 2835.76272                                         || \n",
        " 2690.99132                                        || \n",
        " 2549.96193                                       || \n",
        " 2412.68017                                      || \n",
        " 2279.15110                                     || \n",
        " 2149.37986                                    || \n",
        " 2023.37151                                   || \n",
        " 1901.13077                                  || \n",
        " 1782.66240                                 || \n",
        " 1667.97094                                || \n",
        " 1557.06073                               || \n",
        " 1449.93593                              || \n",
        " 1346.60078                             || \n",
        " 1247.05922                            || \n",
        " 1151.31499                           || \n",
        " 1059.37185                          || \n",
        "  971.23314                         || \n",
        "  886.90241                        || \n",
        "  806.38279                       || \n",
        "  729.67745                      || \n",
        "  656.78922                     || \n",
        "  587.72084                    || \n",
        "  522.47517                   || \n",
        "  461.05446                  || \n",
        "  403.46114                 || \n",
        "  349.69757                || \n",
        "  299.76559               || \n",
        "  253.66715              || \n",
        "  211.40410             || \n",
        "  172.97807            || \n",
        "  138.39033           || \n",
        "  107.64241          || \n",
        "   80.73546         || \n",
        "   57.67033        || \n",
        "   38.44816       || \n",
        "   23.06951      || \n",
        "   11.53492     || \n",
        "    3.84503    || \n",
        "    0.00000    | \n",
        " Reading molecular/atomic number densities...\n",
        " Reading gas species number densities...\n",
        " Reading gas temperature...\n",
        " Reading or computing partition functions...\n",
        " Computing partition function internally for molecule            1\n",
        " Reading velocity field...\n",
        " No microturbulence input file found. Assuming zero microturbulence...\n",
        " Line transfer method: LTE (populations precalculated)\n",
        " Will store level populations of molecule  1 into global array for the following levels:\n",
        "           2           3\n",
        " Computing level populations, and storing them in global array...\n",
        " Rendering image(s)...\n",
        " Ray-tracing image for lambda =    1300.4036557964414       micron...\n"
       ]
      },
      {
       "output_type": "stream",
       "stream": "stdout",
       "text": [
        " Writing image to file...\n"
       ]
      },
      {
       "output_type": "stream",
       "stream": "stdout",
       "text": [
        " Diagnostics of flux-conservation (sub-pixeling):\n",
        "     Nr of main pixels (nx*ny)   =        57600\n",
        "     Nr of (sub)pixels raytraced =        61040\n",
        "     Nr of (sub)pixels used      =        60180\n",
        "     Increase of raytracing cost =    1.0597222222222222     \n"
       ]
      },
      {
       "output_type": "stream",
       "stream": "stdout",
       "text": [
        " Done...\n",
        "elapsed time: 1.391924293 seconds (93344 bytes allocated)\n"
       ]
      }
     ],
     "prompt_number": 6
    },
    {
     "cell_type": "markdown",
     "metadata": {},
     "source": [
      "## Image reading\n",
      "\n",
      "Reading image from file into a datacub"
     ]
    },
    {
     "cell_type": "code",
     "collapsed": false,
     "input": [
      "using read_image"
     ],
     "language": "python",
     "metadata": {},
     "outputs": []
    },
    {
     "cell_type": "code",
     "collapsed": false,
     "input": [],
     "language": "python",
     "metadata": {},
     "outputs": []
    },
    {
     "cell_type": "markdown",
     "metadata": {},
     "source": [
      "## FFT\n",
      "\n",
      "FFT'ing a single channel"
     ]
    },
    {
     "cell_type": "code",
     "collapsed": false,
     "input": [],
     "language": "python",
     "metadata": {},
     "outputs": []
    }
   ],
   "metadata": {}
  }
 ]
}